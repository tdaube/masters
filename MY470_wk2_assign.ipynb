{
 "cells": [
  {
   "cell_type": "markdown",
   "metadata": {
    "slideshow": {
     "slide_type": "slide"
    }
   },
   "source": [
    "### MY470 Computer Programming\n",
    "\n",
    "### Week 2 Assignment, MT 2020\n",
    "\n",
    "#### \\*\\*\\* Due 12:00 noon on Monday, October 12 \\*\\*\\*"
   ]
  },
  {
   "cell_type": "markdown",
   "metadata": {
    "slideshow": {
     "slide_type": "slide"
    }
   },
   "source": [
    "---\n",
    "### Working with text\n",
    "\n",
    "For this assignment, we will use the text in the file kafka_trial.txt. The file contains the first paragraph from Franz Kafka's book *The Trial*, which you can find on [Project Gutenberg](http://www.gutenberg.org/ebooks/7849)."
   ]
  },
  {
   "cell_type": "markdown",
   "metadata": {},
   "source": [
    "### Problem 1: How many words?\n",
    "\n",
    "Print the number of words in the text. Enter your code in the cell below. The cell already contains code that takes the text from the file and saves it as a string in the variable txt. Note that the text contains new line characters \"\\n\".\n",
    "\n",
    "#### Hints\n",
    "\n",
    "Count words with apostrophes, e.g. \"didn't\", as one word. Do not count punctuation marks, e.g. hyphens \"-\", as words. Attention to detail is important here!"
   ]
  },
  {
   "cell_type": "code",
   "execution_count": 127,
   "metadata": {
    "scrolled": true
   },
   "outputs": [
    {
     "name": "stdout",
     "output_type": "stream",
     "text": [
      "Someone must have been telling lies about Josef K., he knew he had\n",
      "done nothing wrong but, one morning, he was arrested.  Every day at\n",
      "eight in the morning he was brought his breakfast by  Mrs. Grubach's\n",
      "cook - Mrs. Grubach was his landlady - but today she didn't come.  That\n",
      "had never happened before.  K. waited a little while, looked from his\n",
      "pillow at the old woman who lived opposite and who was watching him with\n",
      "an inquisitiveness quite unusual for her, and finally, both hungry and\n",
      "disconcert\n",
      "The number of words in the text is 1425.\n"
     ]
    }
   ],
   "source": [
    "# Open the file and get the text into a string variable called txt\n",
    "with open('kafka_trial.txt') as f:\n",
    "    txt = f.read()\n",
    "print(txt[:500]) # Show the first 500 characters of the txt variable\n",
    "\n",
    "# Enter your answer to Problem 1 below. \n",
    "txt1 = txt.strip().lower().replace('-','').replace('...,\"','').replace('\"','').replace('.','').replace('?','')\\\n",
    "       .replace('!','').replace(',','').replace(';','').split()\n",
    "print('The number of words in the text is ' + str(len(txt1)) + '.')"
   ]
  },
  {
   "cell_type": "markdown",
   "metadata": {},
   "source": [
    "---\n",
    "### Problem 2: How many unique words?\n",
    "\n",
    "Print the number of unique words in the text. Enter your code in the cell below. \n",
    "\n",
    "#### Hints\n",
    "\n",
    "Count contractions, e.g. \"didn't\", and possessives , e.g. \"policeman's\", as distinct words but ignore formatting such as capitalization and quotation marks. "
   ]
  },
  {
   "cell_type": "code",
   "execution_count": 117,
   "metadata": {},
   "outputs": [
    {
     "name": "stdout",
     "output_type": "stream",
     "text": [
      "The number of unique words in the text is 506.\n"
     ]
    }
   ],
   "source": [
    "# Enter your answer to Problem 2 here. Note that you can reuse code\n",
    "# from any code cells above, as long as you have run the code \n",
    "# previously in the current kernel session.\n",
    "\n",
    "unique_txt = set(txt1)\n",
    "print('The number of unique words in the text is ' + str(len(unique_txt)) + '.')"
   ]
  },
  {
   "cell_type": "markdown",
   "metadata": {},
   "source": [
    "---\n",
    "### Problem 3: How common are certain words?\n",
    "\n",
    "Consider the words \"the\", \"a\", \"and\", \"man\", and \"time\". Create a dictionary where each of these words is a key and the value is the number of times the word appears in the text. Then print five lines of text, each containing one of the words and the number of times it appears. Your answer should look as follows, where `XX` is the corresponding count:\n",
    "```\n",
    "the: XX\n",
    "a: XX\n",
    "and: XX\n",
    "man: XX\n",
    "time: XX\n",
    "```"
   ]
  },
  {
   "cell_type": "code",
   "execution_count": 1,
   "metadata": {},
   "outputs": [
    {
     "ename": "NameError",
     "evalue": "name 'txt1' is not defined",
     "output_type": "error",
     "traceback": [
      "\u001b[0;31m---------------------------------------------------------------------------\u001b[0m",
      "\u001b[0;31mNameError\u001b[0m                                 Traceback (most recent call last)",
      "\u001b[0;32m<ipython-input-1-ed4da7033c35>\u001b[0m in \u001b[0;36m<module>\u001b[0;34m\u001b[0m\n\u001b[1;32m      2\u001b[0m \u001b[0mword_count\u001b[0m \u001b[0;34m=\u001b[0m \u001b[0;34m{\u001b[0m\u001b[0;34m'the'\u001b[0m\u001b[0;34m:\u001b[0m\u001b[0;36m0\u001b[0m\u001b[0;34m,\u001b[0m\u001b[0;34m'a'\u001b[0m\u001b[0;34m:\u001b[0m\u001b[0;36m0\u001b[0m\u001b[0;34m,\u001b[0m\u001b[0;34m'and'\u001b[0m\u001b[0;34m:\u001b[0m\u001b[0;36m0\u001b[0m\u001b[0;34m,\u001b[0m\u001b[0;34m'man'\u001b[0m\u001b[0;34m:\u001b[0m\u001b[0;36m0\u001b[0m\u001b[0;34m,\u001b[0m\u001b[0;34m'time'\u001b[0m\u001b[0;34m:\u001b[0m\u001b[0;36m0\u001b[0m\u001b[0;34m}\u001b[0m\u001b[0;34m\u001b[0m\u001b[0;34m\u001b[0m\u001b[0m\n\u001b[1;32m      3\u001b[0m \u001b[0;34m\u001b[0m\u001b[0m\n\u001b[0;32m----> 4\u001b[0;31m \u001b[0;32mfor\u001b[0m \u001b[0mw\u001b[0m \u001b[0;32min\u001b[0m \u001b[0mtxt1\u001b[0m\u001b[0;34m:\u001b[0m\u001b[0;34m\u001b[0m\u001b[0;34m\u001b[0m\u001b[0m\n\u001b[0m\u001b[1;32m      5\u001b[0m     \u001b[0;32mif\u001b[0m \u001b[0mw\u001b[0m \u001b[0;32min\u001b[0m \u001b[0mword_count\u001b[0m\u001b[0;34m:\u001b[0m\u001b[0;34m\u001b[0m\u001b[0;34m\u001b[0m\u001b[0m\n\u001b[1;32m      6\u001b[0m         \u001b[0mword_count\u001b[0m\u001b[0;34m[\u001b[0m\u001b[0mw\u001b[0m\u001b[0;34m]\u001b[0m\u001b[0;34m+=\u001b[0m\u001b[0;36m1\u001b[0m\u001b[0;34m\u001b[0m\u001b[0;34m\u001b[0m\u001b[0m\n",
      "\u001b[0;31mNameError\u001b[0m: name 'txt1' is not defined"
     ]
    }
   ],
   "source": [
    "# Enter your answer to Problem 3 here.\n",
    "word_count = {'the':0,'a':0,'and':0,'man':0,'time':0}\n",
    "\n",
    "for w in txt1:\n",
    "    if w in word_count:\n",
    "        word_count[w]+=1\n",
    "\n",
    "# use dictionary indexing here instead as much faster\n",
    "for x,y in word_count.items():\n",
    "    print(str(x) + ': ' + str(y))\n"
   ]
  },
  {
   "cell_type": "markdown",
   "metadata": {},
   "source": [
    "---\n",
    "### Problem 4: Sort the words alphabetically\n",
    "\n",
    "Sort the unique words in the text alphabetically. Then print the first 10 unique words in alphabetical order. Then print the last 10 unique words in reverse alphabetical order.\n",
    "\n",
    "#### Hints\n",
    "\n",
    "Think about efficiency here and avoid unnecessary operations.\n",
    " "
   ]
  },
  {
   "cell_type": "code",
   "execution_count": 114,
   "metadata": {},
   "outputs": [
    {
     "name": "stdout",
     "output_type": "stream",
     "text": [
      "['a', 'about', 'accepted', 'accost', 'acknowledged', 'acquaintance', 'act', 'acted', 'actually', 'advantage']\n",
      "['yourself', 'your', \"you've\", \"you're\", \"you'll\", \"you'd\", 'you', 'year', 'wrong', \"wouldn't\"]\n"
     ]
    }
   ],
   "source": [
    "# Enter your answer to Problem 4 here. \n",
    "\n",
    "unique_alpha = sorted(unique_txt)\n",
    "print(unique_alpha[:10])\n",
    "print(unique_alpha[-1:-11:-1])"
   ]
  },
  {
   "cell_type": "markdown",
   "metadata": {},
   "source": [
    "---\n",
    "\n",
    "### Evaluation\n",
    "\n",
    "| Problem | Mark     | Comment   \n",
    "|:-------:|:--------:|:----------------------\n",
    "| 1       |   /4    |              \n",
    "| 2       |   /3    | \n",
    "| 3       |   /4    | \n",
    "| 4       |   /3    | \n",
    "| Correct submission       |   /2    | \n",
    "| Code legibility | /4    | \n",
    "|**Total**|**/20**  | "
   ]
  }
 ],
 "metadata": {
  "kernelspec": {
   "display_name": "Python 3",
   "language": "python",
   "name": "python3"
  },
  "language_info": {
   "codemirror_mode": {
    "name": "ipython",
    "version": 3
   },
   "file_extension": ".py",
   "mimetype": "text/x-python",
   "name": "python",
   "nbconvert_exporter": "python",
   "pygments_lexer": "ipython3",
   "version": "3.7.4"
  }
 },
 "nbformat": 4,
 "nbformat_minor": 2
}
