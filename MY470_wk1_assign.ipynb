{
 "cells": [
  {
   "cell_type": "markdown",
   "metadata": {
    "slideshow": {
     "slide_type": "slide"
    }
   },
   "source": [
    "### MY470 Computer Programming\n",
    "\n",
    "### (FORMATIVE) Week 1 Assignment, MT 2020\n",
    "\n",
    "#### \\*\\*\\* Due 12:00 noon on Monday, October 5 \\*\\*\\*"
   ]
  },
  {
   "cell_type": "markdown",
   "metadata": {
    "slideshow": {
     "slide_type": "slide"
    }
   },
   "source": [
    "---\n",
    "### Problem 1: Follow an algorithm\n",
    "\n",
    "Please create a new Markdown cell below.\n",
    "\n",
    "Use one of the expressions \"0 - No prior experience\", \"1 - Some coding\", \"2 - Some programming experience\", or \"3 - Extensive programming experience\" in bold typeface to describe your knowledge and experience with programming.  \n",
    "\n",
    "If your answer above is \"0 - No prior experience\", use an ordered list to name three skills that you would like to acquire in this course.\n",
    "\n",
    "Otherwise, use an unordered list to mention each course and project you took part in that required you to code or program and the programming language you used for it. \n",
    "\n",
    "#### Hints\n",
    "\n",
    "You can find basic information on formating text in Markdown on this [cheatsheet](https://github.com/adam-p/markdown-here/wiki/Markdown-Cheatsheet).  "
   ]
  },
  {
   "cell_type": "markdown",
   "metadata": {},
   "source": [
    "**1 - Some coding** "
   ]
  },
  {
   "cell_type": "markdown",
   "metadata": {},
   "source": [
    "1. Big data and economics course\n",
    "2. Machine learning projects\n",
    "3. Using Python"
   ]
  },
  {
   "cell_type": "markdown",
   "metadata": {
    "slideshow": {
     "slide_type": "slide"
    }
   },
   "source": [
    "---\n",
    "### Problem 2: Write a simple Python program\n",
    "\n",
    "Create a new Code cell below and write a simple Python program that takes the user's name as input and prints a greeting using it. Here is an example of how this program might look like:\n",
    "\n",
    "```What is your name? [Milena Tsvetkova]\n",
    "Ahoy, Milena Tsvetkova!```\n",
    "\n",
    "In the example, the user entered the text shown in square brackets (\"Milena Tsvetkova\"). The program printed all the other text. \n",
    "\n",
    "#### Hints\n",
    "\n",
    "To see how to get input from the user's console, take a look at the [input function](https://docs.python.org/3/library/functions.html#input) in the Python online documentation. You will need to store the user input in a variable and use the variable to print the greeting. Make sure you use the proper spacing around the punctuation marks!"
   ]
  },
  {
   "cell_type": "code",
   "execution_count": 1,
   "metadata": {},
   "outputs": [
    {
     "name": "stdout",
     "output_type": "stream",
     "text": [
      "What is your name? Tabby\n",
      "Ahoy, Tabby!\n"
     ]
    }
   ],
   "source": [
    "user_name = input('What is your name? ')\n",
    "print('Ahoy, ' + str(user_name) + '!')"
   ]
  },
  {
   "cell_type": "markdown",
   "metadata": {},
   "source": [
    "---\n",
    "### Problem 3: Submit the assignment\n",
    "\n",
    "Submit the assignment on Github before the deadline. "
   ]
  },
  {
   "cell_type": "markdown",
   "metadata": {},
   "source": [
    "---\n",
    "\n",
    "### Evaluation\n",
    "\n",
    "| Problem | Comment   \n",
    "|:-------:|:----------------------\n",
    "| 1       | Great             \n",
    "| 2       | Great\n",
    "| 3       | Great\n",
    "|**Overall**| Well done\n"
   ]
  }
 ],
 "metadata": {
  "kernelspec": {
   "display_name": "Python 3",
   "language": "python",
   "name": "python3"
  },
  "language_info": {
   "codemirror_mode": {
    "name": "ipython",
    "version": 3
   },
   "file_extension": ".py",
   "mimetype": "text/x-python",
   "name": "python",
   "nbconvert_exporter": "python",
   "pygments_lexer": "ipython3",
   "version": "3.7.3"
  }
 },
 "nbformat": 4,
 "nbformat_minor": 2
}
