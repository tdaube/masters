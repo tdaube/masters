{
 "cells": [
  {
   "cell_type": "markdown",
   "metadata": {
    "slideshow": {
     "slide_type": "slide"
    }
   },
   "source": [
    "### MY470 Computer Programming\n",
    "\n",
    "### Week 10 Assignment, MT 2020\n",
    "\n",
    "#### \\*\\*\\* Due 12:00 noon on Monday, December 7 \\*\\*\\*"
   ]
  },
  {
   "cell_type": "markdown",
   "metadata": {
    "slideshow": {
     "slide_type": "slide"
    }
   },
   "source": [
    "---\n",
    "### Practicing searching and sorting algorithms"
   ]
  },
  {
   "cell_type": "markdown",
   "metadata": {},
   "source": [
    "### Problem 1: Linear search\n",
    "\n",
    "The version of linear search we discussed in lecture starts from index 0. Rewrite the function below to search from the end of the list instead of from the beginning. \n"
   ]
  },
  {
   "cell_type": "code",
   "execution_count": 142,
   "metadata": {},
   "outputs": [],
   "source": [
    "# To answer Problem 1, modify the code below. \n",
    "\n",
    "def linear_search(ls, e):\n",
    "    '''Assumes ls is a list.\n",
    "    Returns True if e is in ls, False otherwise.'''\n",
    "\n",
    "    for i in reversed(range(len(ls))):\n",
    "        if ls[i] == e:\n",
    "            return True\n",
    "    return False"
   ]
  },
  {
   "cell_type": "markdown",
   "metadata": {},
   "source": [
    "### Problem 2: Selection sort\n",
    "\n",
    "The version of selection sort we discussed in lecture starts from the end. Rewrite the function below to sort from the beginning of the list instead of from the end.\n"
   ]
  },
  {
   "cell_type": "code",
   "execution_count": 162,
   "metadata": {},
   "outputs": [],
   "source": [
    "# To answer Problem 2, modify the code below. \n",
    "\n",
    "def selection_sort(ls):\n",
    "    '''Assumes ls is a list of elements that can be compared using >.\n",
    "    Sorts ls in ascending order.'''\n",
    "    \n",
    "    # Consider each position, starting from the beginning\n",
    "    # Initialise the minimum as the first index\n",
    "    for pos in range(len(ls)):\n",
    "        min_pos = pos\n",
    "        # Find smallest item in sublist until this position\n",
    "        for i in range(pos + 1, len(ls)):\n",
    "            if ls[i] < ls[min_pos]:\n",
    "                min_pos = i\n",
    "                \n",
    "        # Swap the item at this position with the smallest item\n",
    "        ls[pos], ls[min_pos] = ls[min_pos], ls[pos]\n",
    "    return ls"
   ]
  },
  {
   "cell_type": "markdown",
   "metadata": {},
   "source": [
    "### Problem 3: Merge sort\n",
    "\n",
    "The version of merge sort we discussed in lecture uses the slicing operator `[:]`. However, the slicing operator in Python is $O(k)$ where $k$ is the size of the slice. In order to guarantee that the algorithm will be $O(n \\log n)$, you need to remove the slicing operator. To do this, you should pass the starting and ending indices along with the list when you make the recursive call. Rewrite the `merge_sort` function below to do so. You need to embed the new function and the old merge function in a **wrapper function** that looks the same as before, i.e. it is called `merge_sort` and it takes only one argument – the list to be sorted.\n",
    "\n",
    "#### Hint\n",
    "\n",
    "`middle = (start + end)//2`\n"
   ]
  },
  {
   "cell_type": "code",
   "execution_count": 619,
   "metadata": {
    "scrolled": true
   },
   "outputs": [],
   "source": [
    "# To answer Problem 3, modify the code below. \n",
    "\n",
    "def merge_sort(ls):\n",
    "    '''Assumes ls is a list. \n",
    "    Returns a new sorted list with same elements as ls.'''\n",
    "    \n",
    "    def merge_sort_old(ls, start, end):\n",
    "        # Base case\n",
    "        if start == end:\n",
    "            return [ls[start]]\n",
    "        else:\n",
    "            middle = (start + end)//2\n",
    "            left = merge_sort_old(ls, start, middle)\n",
    "            right = merge_sort_old(ls, middle + 1, end)\n",
    "            return merge(left, right)\n",
    "\n",
    "    if len(ls) == 0:\n",
    "        return False\n",
    "    else:\n",
    "        return merge_sort_old(ls, start=0, end=len(ls) - 1)\n",
    "\n",
    "\n",
    "def merge(left, right):\n",
    "    '''Assumes left and right are sorted lists.\n",
    "    Returns a new sorted list containing the same elements as (left + right).'''\n",
    "    \n",
    "    result = []\n",
    "    i, j = 0, 0\n",
    "    # Inspect the first items of the two lists and append the smaller one to results\n",
    "    while i < len(left) and j < len(right):\n",
    "        if left[i] < right[j]:\n",
    "            result.append(left[i])\n",
    "            i += 1\n",
    "        else:\n",
    "            result.append(right[j])\n",
    "            j += 1\n",
    "    # Append any remaining items\n",
    "    while i < len(left):\n",
    "        result.append(left[i])\n",
    "        i += 1\n",
    "    while j < len(right):\n",
    "        result.append(right[j])\n",
    "        j += 1\n",
    "    return result"
   ]
  },
  {
   "cell_type": "markdown",
   "metadata": {},
   "source": [
    "---\n",
    "\n",
    "### Evaluation\n",
    "\n",
    "| Problem | Mark     | Comment   \n",
    "|:-------:|:--------:|:----------------------\n",
    "| 1       |   /5    |              \n",
    "| 2       |   /5    | \n",
    "| 3       |   /10    | \n",
    "|**Total**|**/20**  | \n"
   ]
  }
 ],
 "metadata": {
  "kernelspec": {
   "display_name": "Python 3",
   "language": "python",
   "name": "python3"
  },
  "language_info": {
   "codemirror_mode": {
    "name": "ipython",
    "version": 3
   },
   "file_extension": ".py",
   "mimetype": "text/x-python",
   "name": "python",
   "nbconvert_exporter": "python",
   "pygments_lexer": "ipython3",
   "version": "3.7.4"
  }
 },
 "nbformat": 4,
 "nbformat_minor": 2
}
