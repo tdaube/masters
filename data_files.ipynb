{
 "cells": [
  {
   "cell_type": "markdown",
   "metadata": {
    "slideshow": {
     "slide_type": "slide"
    }
   },
   "source": [
    "### MY470 Computer Programming\n",
    "\n",
    "### Week 3 Assignment, MT 2020\n",
    "\n",
    "#### \\*\\*\\* Due 12:00 noon on Monday, October 19 \\*\\*\\*"
   ]
  },
  {
   "cell_type": "markdown",
   "metadata": {
    "slideshow": {
     "slide_type": "slide"
    }
   },
   "source": [
    "---\n",
    "### Working with data files\n",
    "\n",
    "For this assignment, we will use data from the file ca-GrQc.txt. The file contains the co-authorship links for articles in the ArXiv category General Relativity. Each line in the file includes the ids of two authors who have worked together on at least one article. In network analysis parlance, this is known as an \"edge list\". The data are obtained from the [Stanford Large Network Dataset Collection](https://snap.stanford.edu/data/index.html) and you can find more information about them on https://snap.stanford.edu/data/ca-GrQc.html.\n",
    "\n",
    "#### Hints\n",
    "\n",
    "The problems below need to be done in sequence because objects (lists, dictionaries, etc.) you create in early problems may be needed for a later problem. However, if you don't manage to obtain these objects at the beginning, just use fictitious ones, e.g. `[13, 14, 22, 24, 25, 26, 27, 28, 29, 45]` or `{{13: [13, 7596, 11196, 19170], 14:[14171]}`. "
   ]
  },
  {
   "cell_type": "markdown",
   "metadata": {},
   "source": [
    "### Problem 1: Get all coauthorships in a list of lists\n",
    "\n",
    "Create a list that contains all edges included in the data file as lists of the two authors' ids, where the ids are saved as integers. Your list should look like [[3466, 937], [3466, 5233], ...]. To achieve this, use a `for` loop to iterate over each line in the file. One way to do this is as follows:\n",
    "\n",
    "```\n",
    "for line in open('ca-GrQc.txt', 'r'):\n",
    "    do something with line\n",
    "```\n",
    "\n",
    "⚡️ Notice that this is a more efficient way to read data than `file.read()`, which we used in Assignment 2, as you don't load all data in memory but stream them line by line. \n",
    "\n",
    "Print the first 10 entries in your list. \n",
    "\n",
    "#### Hints\n",
    "\n",
    "It is a good practice to write and test your initial code using a smaller version of the dataset. This will help you debug faster. It will also allow you to manually check for possible errors. \n",
    "\n",
    "You need to ignore the first four lines of the file that contain explanatory text.\n",
    "\n",
    "In the file, the two author ids are separated with tabs and the tab character is encoded as `'\\t'`.\n"
   ]
  },
  {
   "cell_type": "code",
   "execution_count": 5,
   "metadata": {},
   "outputs": [
    {
     "name": "stdout",
     "output_type": "stream",
     "text": [
      "[[3466, 937], [3466, 5233], [3466, 8579], [3466, 10310], [3466, 15931], [3466, 17038], [3466, 18720], [3466, 19607], [10310, 1854], [10310, 3466]]\n"
     ]
    }
   ],
   "source": [
    "# Enter your answer to Problem 1 here. \n",
    "# figure out how to reference the code\n",
    "\n",
    "ls = []\n",
    "for line in open('ca-GrQc.txt', 'r'):\n",
    "    if line[0] == '#':\n",
    "        continue\n",
    "    else:\n",
    "        line = line.strip().split()\n",
    "        line = [int(i) for i in line]\n",
    "        ls.append(line)\n",
    "        \n",
    "print(ls[:10])"
   ]
  },
  {
   "cell_type": "markdown",
   "metadata": {},
   "source": [
    "### Problem 2: Who are the authors in the data?\n",
    "\n",
    "Create a sorted list with the integer ids for all of the unique authors in the dataset. Print the first 10 authors in the list. Then print how many authors there are in total.\n",
    "\n",
    "Then, using a dictionary comprehension, create a dictionary in which the keys are the author integer ids and the values are empty lists. The dictionary should look something like: `{13:[], 14:[], 22:[], ...}`. To confirm, print the dictionary values for the authors in the list `[13, 14, 22, 24, 25, 26, 27, 28, 29, 45]`.\n",
    "\n",
    "#### Hints\n",
    "\n",
    "Note that if the edge *i–j* is in the data, then the edge *j–i* is also there. This means that for this task you don't need to consider the second author in the line. You can get all authors by collecting just the first author in each line in the file."
   ]
  },
  {
   "cell_type": "code",
   "execution_count": 6,
   "metadata": {
    "scrolled": true
   },
   "outputs": [
    {
     "name": "stdout",
     "output_type": "stream",
     "text": [
      "The first 10 authors are [13, 14, 22, 24, 25, 26, 27, 28, 29, 45]\n",
      "There are 5242 authors in total.\n",
      "dict_values([[], [], [], [], [], [], [], [], [], []])\n"
     ]
    }
   ],
   "source": [
    "# Enter your answer to Problem 2 here. \n",
    "\n",
    "sorted_unique_ls = sorted(set(i[0] for i in ls))\n",
    "first_ten = sorted_unique_ls[:10]\n",
    "print('The first 10 authors are', first_ten)\n",
    "print('There are', len(sorted_unique_ls), 'authors in total.')\n",
    "\n",
    "dic = {i:[] for i in sorted_unique_ls}\n",
    "dic_first_ten = {i:[] for i in first_ten}\n",
    "print(dic_first_ten.values()) "
   ]
  },
  {
   "cell_type": "markdown",
   "metadata": {},
   "source": [
    "---\n",
    "### Problem 3: Get each author's coauthors\n",
    "\n",
    "Enter each author's unique coauthors in the empty dictionary you created in Problem 2. The dictionary should now look something like: `{13: [7596, 11196, 19170], 14:[14171], ...}`.\n",
    "\n",
    "Print the list of coauthors for the authors in the list `[13, 14, 22, 24, 25, 26, 27, 28, 29, 45]`.\n",
    "\n",
    "#### Hints\n",
    "\n",
    "Notice that the data contain errors. For example, I noticed that the data say that author 13 coauthored with himself/herself, which is meaningless. To get the maximum number of points, your code should exclude oneself in one's list of coauthors."
   ]
  },
  {
   "cell_type": "code",
   "execution_count": 7,
   "metadata": {
    "scrolled": true
   },
   "outputs": [
    {
     "name": "stdout",
     "output_type": "stream",
     "text": [
      "[[7596, 11196, 19170], [14171], [106, 11183, 15793, 19440, 22618, 25043], [3858, 15774, 19517, 23161], [22891], [1407, 4550, 11801, 13096, 13142], [11114, 19081, 24726, 25540], [7916], [20243], [570, 773, 1186, 1653, 2212, 2741, 2952, 3372, 4164, 4180, 4511, 4513, 6179, 6610, 6830, 7956, 8879, 9785, 11241, 11472, 12365, 12496, 12679, 12781, 12851, 14540, 14807, 15003, 15659, 17655, 17692, 18719, 18866, 18894, 19423, 19961, 20108, 20562, 20635, 21012, 21281, 21508, 21847, 22691, 22887, 23293, 24955, 25346, 25758]]\n"
     ]
    }
   ],
   "source": [
    "# Enter your answer to Problem 3 here. \n",
    "\n",
    "for i in ls:\n",
    "    dic.setdefault(i[0],[]).append(i[1]) \n",
    "dic = {key:[v for v in value if key!= v] for key,value in dic.items()}\n",
    "\n",
    "print([dic[i] for i in first_ten])\n",
    "# reference https://stackoverflow.com/questions/8023306/get-key-by-value-in-dictionary/14624923"
   ]
  },
  {
   "cell_type": "markdown",
   "metadata": {},
   "source": [
    "---\n",
    "### Problem 4: Who has the most coauthors?\n",
    "\n",
    "Find the author who has the most coauthors. Print the id of that author and the number of coauthors they have. \n",
    "\n",
    "Solve this problem using iteration and conditionals; you are not allowed to use external modules. \n"
   ]
  },
  {
   "cell_type": "code",
   "execution_count": 8,
   "metadata": {},
   "outputs": [
    {
     "name": "stdout",
     "output_type": "stream",
     "text": [
      "Author with id 21012 has the most at 81 coauthors.\n"
     ]
    }
   ],
   "source": [
    "# Enter your answer to Problem 4 here. \n",
    "\n",
    "most_coauth = {}\n",
    "for key,value in dic.items():\n",
    "    num = len(value)\n",
    "    most_coauth[key] = num\n",
    "    most = max(most_coauth, key = most_coauth.get)\n",
    "\n",
    "print('Author with id', most, 'has the most at', most_coauth[most], 'coauthors.')\n",
    "# reference https://stackoverflow.com/questions/268272/getting-key-with-maximum-value-in-dictionary"
   ]
  },
  {
   "cell_type": "markdown",
   "metadata": {},
   "source": [
    "---\n",
    "\n",
    "### Evaluation\n",
    "\n",
    "| Problem | Mark     | Comment   \n",
    "|:-------:|:--------:|:----------------------\n",
    "| 1       |   /3    |              \n",
    "| 2       |   /4    | \n",
    "| 3       |   /3    | \n",
    "| 4       |   /4    | \n",
    "| Code legibility       |   /2    | \n",
    "| Code efficiency      |   /4    | \n",
    "|**Total**|**/20**  | \n"
   ]
  }
 ],
 "metadata": {
  "kernelspec": {
   "display_name": "Python 3",
   "language": "python",
   "name": "python3"
  },
  "language_info": {
   "codemirror_mode": {
    "name": "ipython",
    "version": 3
   },
   "file_extension": ".py",
   "mimetype": "text/x-python",
   "name": "python",
   "nbconvert_exporter": "python",
   "pygments_lexer": "ipython3",
   "version": "3.7.4"
  }
 },
 "nbformat": 4,
 "nbformat_minor": 2
}
