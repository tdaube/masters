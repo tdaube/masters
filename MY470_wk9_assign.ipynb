{
 "cells": [
  {
   "cell_type": "markdown",
   "metadata": {
    "slideshow": {
     "slide_type": "slide"
    }
   },
   "source": [
    "### MY470 Computer Programming\n",
    "\n",
    "### Week 9 Assignment, MT 2020\n",
    "\n",
    "#### \\*\\*\\* Due 12:00 noon on Monday, November 30 \\*\\*\\*"
   ]
  },
  {
   "cell_type": "markdown",
   "metadata": {
    "slideshow": {
     "slide_type": "slide"
    }
   },
   "source": [
    "---\n",
    "### Practicing order of growth analysis\n",
    "\n",
    "This assignment takes the form of a more traditional problem set, where each problem stands by itself and is unrelated to the others.\n",
    "\n",
    "**You are expected to complete this assignment on your own. You are not allowed to discuss your answers with others!**"
   ]
  },
  {
   "cell_type": "markdown",
   "metadata": {},
   "source": [
    "---\n",
    "\n",
    "### Problem 1\n",
    "\n",
    "Please give the order of growth for the function below and explain your reasoning in a couple of sentences."
   ]
  },
  {
   "cell_type": "code",
   "execution_count": 526,
   "metadata": {},
   "outputs": [],
   "source": [
    "def is_prime(x):\n",
    "    \"\"\"Take an integer greater than 1 and check if it is a prime number.\"\"\"\n",
    "    for i in range(2, int(x**0.5) + 1):\n",
    "        if x % i == 0:\n",
    "            return False\n",
    "    return True\n",
    "\n",
    "# Enter your answer to Problem 1 below. \n",
    "# O(sqrt(n)), where n is x. The number of operations\n",
    "# is dependent on the number of divisors up until \n",
    "# the square root of x, when x is prime."
   ]
  },
  {
   "cell_type": "markdown",
   "metadata": {},
   "source": [
    "---\n",
    "\n",
    "### Problem 2\n",
    "\n",
    "Please give the order of growth for the function below and explain your reasoning in a couple of sentences."
   ]
  },
  {
   "cell_type": "code",
   "execution_count": 527,
   "metadata": {},
   "outputs": [],
   "source": [
    "def multiply(a, b):\n",
    "    \"\"\"Take two integers and compute their product.\"\"\"\n",
    "    res = 0\n",
    "    for i in range(1, b + 1):\n",
    "        res += a\n",
    "    return res\n",
    "\n",
    "# Enter your answer to Problem 2 below. \n",
    "# O(n), where n is b, as the algorithm's run time\n",
    "# is proportional to the size of the input b. Each\n",
    "# element is passed through from 1 to b."
   ]
  },
  {
   "cell_type": "markdown",
   "metadata": {},
   "source": [
    "---\n",
    "\n",
    "### Problem 3\n",
    "\n",
    "Please give the order of growth for the function below and explain your reasoning in a couple of sentences."
   ]
  },
  {
   "cell_type": "code",
   "execution_count": 27,
   "metadata": {},
   "outputs": [],
   "source": [
    "def div(a, b):\n",
    "    \"\"\"Assume a and b are numeric, a > 0 and b > 0.\n",
    "    Perform integer division.\"\"\"\n",
    "    counter = 0\n",
    "    summ = b\n",
    "    while summ <= a:\n",
    "        summ += b\n",
    "        counter += 1\n",
    "    return counter  \n",
    "\n",
    "# Enter your answer to Problem 3 below. \n",
    "# O(a/b), as the run time depends on the value of a and\n",
    "# the increments towards that number in steps of b.\n",
    "# The number of operations increase linearly with the \n",
    "# number of elements, and the algorithm loops over the \n",
    "# sequence in set increments until the while condition\n",
    "# is reached. "
   ]
  },
  {
   "cell_type": "markdown",
   "metadata": {},
   "source": [
    "---\n",
    "\n",
    "### Problem 4\n",
    "\n",
    "Please give the order of growth for the function below and explain your reasoning in a couple of sentences."
   ]
  },
  {
   "cell_type": "code",
   "execution_count": 433,
   "metadata": {},
   "outputs": [],
   "source": [
    "def modulo(a, b):\n",
    "    \"\"\"Take numbers a and b and compute a % b.\"\"\"\n",
    "    if b <= 0:\n",
    "        return None\n",
    "    div = int(a / b)\n",
    "    return a - div*b\n",
    "\n",
    "# Enter your answer to Problem 4 below. \n",
    "# O(1), as the run time is independent of the input size.\n",
    "# The number of steps the algorithm takes remains constant\n",
    "# with different values of a and b."
   ]
  },
  {
   "cell_type": "markdown",
   "metadata": {},
   "source": [
    "---\n",
    "\n",
    "### Problem 5\n",
    "\n",
    "Please give the order of growth for the function below and explain your reasoning in a couple of sentences."
   ]
  },
  {
   "cell_type": "code",
   "execution_count": 2,
   "metadata": {},
   "outputs": [],
   "source": [
    "def power(a, b):\n",
    "    \"\"\"Take number a and non-negative integer b.\n",
    "    Compute a**b.\"\"\"\n",
    "    if b == 0:\n",
    "        return 1\n",
    "    else:\n",
    "        return a * power(a, b - 1)\n",
    "\n",
    "# Enter your answer to Problem 5 below. \n",
    "# O(n), where n is b, as the function calls itself b number\n",
    "# of times. The exponent value is gradually diminished until \n",
    "# the base case is reached, so the run time is linear in \n",
    "# proportion with the input. "
   ]
  },
  {
   "cell_type": "markdown",
   "metadata": {},
   "source": [
    "---\n",
    "\n",
    "### Problem 6\n",
    "\n",
    "Please write the function described in the given function specification. Then, in a comment, give the order of growth for the function and explain your reasoning in a couple of sentences.\n",
    "\n",
    "You can write your function in either Python or R. "
   ]
  },
  {
   "cell_type": "code",
   "execution_count": 557,
   "metadata": {},
   "outputs": [],
   "source": [
    "# Enter your answer to Problem 6 below. \n",
    "def multiply_list(ls):\n",
    "    \"\"\"Take a list of numbers and modify it in place by\n",
    "    multiplying every 3rd number by 2.\"\"\"\n",
    "    ls[2::3] = [i*2 for i in ls[2::3]]\n",
    "    return ls\n",
    "\n",
    "# O(n), where n is the length of the list. The runtime\n",
    "# of the function depends on the length of that list. "
   ]
  },
  {
   "cell_type": "markdown",
   "metadata": {},
   "source": [
    "---\n",
    "\n",
    "### Problem 7\n",
    "\n",
    "Please write the function described in the given function specification. Then, in a comment, give the order of growth for the function and explain your reasoning in a couple of sentences.\n",
    "\n",
    "You can write your function in either Python or R. "
   ]
  },
  {
   "cell_type": "code",
   "execution_count": 158,
   "metadata": {
    "scrolled": false
   },
   "outputs": [],
   "source": [
    "# Enter your answer to Problem 7 below. \n",
    "def sorted_strings(ls):\n",
    "    \"\"\"Take a list of strings, sort the letters in each string,\n",
    "    and then sort the full list. The list is modified in place.\"\"\"\n",
    "    ls = [''.join(sorted(i)) for i in ls]\n",
    "    ls.sort()\n",
    "    return ls\n",
    "\n",
    "# O(n^2 log n), where n in the length of the list. In\n",
    "# the worst-case scenario sorting is order n log n, and\n",
    "# it is called on for all elements in the list, n times. "
   ]
  },
  {
   "cell_type": "markdown",
   "metadata": {},
   "source": [
    "---\n",
    "\n",
    "### Evaluation\n",
    "\n",
    "| Problem | Mark     | Comment   \n",
    "|:-------:|:--------:|:----------------------\n",
    "| 1       |   /2    |              \n",
    "| 2       |   /2    | \n",
    "| 3       |   /2    | \n",
    "| 4       |   /2    | \n",
    "| 5       |   /2    | \n",
    "| 6       |   /4    | \n",
    "| 7       |   /6    | \n",
    "|**Total**|**/20**  | \n"
   ]
  }
 ],
 "metadata": {
  "kernelspec": {
   "display_name": "Python 3",
   "language": "python",
   "name": "python3"
  },
  "language_info": {
   "codemirror_mode": {
    "name": "ipython",
    "version": 3
   },
   "file_extension": ".py",
   "mimetype": "text/x-python",
   "name": "python",
   "nbconvert_exporter": "python",
   "pygments_lexer": "ipython3",
   "version": "3.7.4"
  }
 },
 "nbformat": 4,
 "nbformat_minor": 2
}
