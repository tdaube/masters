{
 "cells": [
  {
   "cell_type": "markdown",
   "metadata": {
    "slideshow": {
     "slide_type": "slide"
    }
   },
   "source": [
    "### MY470 Computer Programming\n",
    "\n",
    "### Week 4 Assignment, MT 2020\n",
    "\n",
    "#### \\*\\*\\* Due 12:00 noon on Monday, October 26 \\*\\*\\*"
   ]
  },
  {
   "cell_type": "markdown",
   "metadata": {
    "slideshow": {
     "slide_type": "slide"
    }
   },
   "source": [
    "---\n",
    "### Writing your own k-means clustering algorithm\n",
    "\n",
    "K-means clustering is a simple unsupervised machine-learning method for cluster analysis. The aim of the method is to partition a set of points into k clusters, such that each point is assigned to the nearest cluster. The algorithm iterates through two steps:\n",
    "\n",
    "1. Assign each data point to the cluster with the nearest centroid\n",
    "2. Update the centroids of the clusters given the new assignment\n",
    "\n",
    "The algorithm converges when the assignments no longer change. Since the intial assignment to clusters is largely random, there is no guarantee that the optimum assignment is found. So it is common to run the algorithm multiple times and use different starting conditions.\n",
    "\n",
    "In this assignment, we will implement a much simplified version of the k-means clustering algorithm. Rather than running the algorithm until convergence, we will repeat the above two steps a large but fixed number of times. In addition, we will initialize only once, using a naive method according to which we randomly choose k points from the data to use as initial cluster centroids. \n",
    "\n",
    "(In real life, you will of course use a library to implement such an algorithm. In Python, you can do this using [scikit-learn](http://scikit-learn.org/stable/modules/generated/sklearn.cluster.KMeans.html).)\n",
    "\n",
    "For the assignment, we will additionally use data from the file \"Wholesale customers data.csv\". The file contains information on the annual spending on diverse product categories for the clients of a wholesale distributor. The data are obtained from the [UCI Machine Learning Repository](http://archive.ics.uci.edu/ml/index.php) and you can find more information about them [here](http://archive.ics.uci.edu/ml/datasets/Wholesale+customers#).\n",
    "\n",
    "#### Hints\n",
    "\n",
    "Use docstrings to describe your functions. We will subtract points from your mark if you do not use appropriate description of your code."
   ]
  },
  {
   "cell_type": "code",
   "execution_count": 2,
   "metadata": {},
   "outputs": [],
   "source": [
    "# We will first import the modules we need\n",
    "# Edit this cell if you prefer to use alternative modules or libraries\n",
    "\n",
    "# You will need the math module to estimate the square root.\n",
    "# To get the square root of num, use math.sqrt(num)\n",
    "import math\n",
    "import csv\n",
    "import random"
   ]
  },
  {
   "cell_type": "markdown",
   "metadata": {},
   "source": [
    "### Problem 1: Function to estimate Euclidean distance between two points\n",
    "\n",
    "Write a function called `get_distance` that calculates the Euclidean distance between two n-dimensional points. The function should take two lists as arguments, where each list contains the n coordinates of each of the two points. \n",
    "\n",
    "Test your function for the points [0, 3, 0] and [4, 0, 0].\n",
    "\n",
    "#### Hints\n",
    "\n",
    "You can read about the definition of Euclidean distance on [Wikipedia](https://en.wikipedia.org/wiki/Euclidean_distance).\n"
   ]
  },
  {
   "cell_type": "code",
   "execution_count": 3,
   "metadata": {},
   "outputs": [
    {
     "data": {
      "text/plain": [
       "[5.0]"
      ]
     },
     "execution_count": 3,
     "metadata": {},
     "output_type": "execute_result"
    }
   ],
   "source": [
    "# Enter your answer to Problem 1 below. \n",
    "def get_distance(ls1, ls2):\n",
    "    \"\"\" Calculates the Euclidean distance between\n",
    "    two n-dimensional points taken as lists.\n",
    "    \"\"\"\n",
    "    euc_dist = [math.sqrt(sum((a - b)**2 for a, b in zip(ls1, ls2)))]\n",
    "    return euc_dist\n",
    "\n",
    "x = [0,3,0]\n",
    "y = [4,0,0]\n",
    "\n",
    "get_distance(x, y)"
   ]
  },
  {
   "cell_type": "markdown",
   "metadata": {},
   "source": [
    "### Problem 2: Function to estimate the centroid of a collection of points\n",
    "\n",
    "Write a function called `get_centroid` that estimates the centroid of a collection of n-dimensional points. The function should take one list as an argument, which contains each of the points entered as a list of n coordinates. The function should return a list with the coordinates of the virtual center point.\n",
    "\n",
    "Test your function for the points in `test_lst` entered below.\n",
    "\n",
    "#### Hints\n",
    "\n",
    "The coordinate of the centroid in each dimension is the mean of the coordinates of all the points in that dimension.\n"
   ]
  },
  {
   "cell_type": "code",
   "execution_count": 4,
   "metadata": {
    "scrolled": false
   },
   "outputs": [
    {
     "data": {
      "text/plain": [
       "[0.5, 0.5, 0.5]"
      ]
     },
     "execution_count": 4,
     "metadata": {},
     "output_type": "execute_result"
    }
   ],
   "source": [
    "test_lst = [[0,0,0], [0,0,1], [0,1,0], [1,0,0], \n",
    "            [0,1,1], [1,0,1], [1,1,0], [1,1,1]]\n",
    "\n",
    "# Enter your answer to Problem 2 below. \n",
    "def get_centroid(ls):\n",
    "    \"\"\" Takes a list and estimates the centroid\n",
    "    of a collection of n-dimensional points.\n",
    "    Returns a list with coordinates of the center point. \n",
    "    \"\"\"\n",
    "    average = [sum(x)/len(x) for x in zip(*ls)] \n",
    "    return average\n",
    "\n",
    "get_centroid(test_lst)"
   ]
  },
  {
   "cell_type": "markdown",
   "metadata": {},
   "source": [
    "---\n",
    "### Problem 3: Function to read data\n",
    "\n",
    "Write a function called `get_data` that opens the file \"Wholesale customers data.csv\" and returns all the data in a list. Each element in the list should be a list of each customer's annual spending on fresh products, milk products, grocery products, frozen products, detergents and paper products, and delicatessen products. In other words, your list should contain 440 elements (customers), each of which contains six numeric elements (amounts spent on products). The function does not need to take any arguments.\n",
    "\n",
    "Test your function by saving the data it returns in a variable called `data`. Then print the first two elements of `data`.\n",
    "\n",
    "\n",
    "#### Hints\n",
    "\n",
    "Use the csv module to read the file. You can read how to do this [here](https://docs.python.org/3/library/csv.html). Make sure you do not include the column names in the data. "
   ]
  },
  {
   "cell_type": "code",
   "execution_count": 5,
   "metadata": {},
   "outputs": [
    {
     "name": "stdout",
     "output_type": "stream",
     "text": [
      "[[12669, 9656, 7561, 214, 2674, 1338], [7057, 9810, 9568, 1762, 3293, 1776]]\n"
     ]
    }
   ],
   "source": [
    "# Enter your answer to Problem 3 here. \n",
    "def get_data():\n",
    "    \"\"\" Opens the file and returns all the data in a list.\n",
    "    Returns list of 440 elements of which each contains\n",
    "    six numeric elements.\n",
    "    \"\"\"\n",
    "    with open('Wholesale customers data.csv', 'r') as f:\n",
    "        reader = csv.reader(f)\n",
    "        data = list(reader)\n",
    "        data = [row[2:] for row in data[1:]]\n",
    "        data = [[int(i) for i in j] for j in data]\n",
    "        return data\n",
    "\n",
    "data = get_data()\n",
    "print(data[:2])"
   ]
  },
  {
   "cell_type": "markdown",
   "metadata": {},
   "source": [
    "---\n",
    "### Problem 4: Function to implement k-means algorithm\n",
    "\n",
    "Write a function called `kmeans` that clusters a collection of points into k clusters using a simplified version of the k-means algorithm. The function should take two arguments: \n",
    "\n",
    "1. `points` – a list of n-dimensional points, and\n",
    "2. `k` – an integer that defines the number of desired clusters. \n",
    "\n",
    "The function should return two things: \n",
    "\n",
    "1. A clustering – a list of `k` clusters, each of which is a list of points (each of which is a list of coordinates)\n",
    "2. A list of the centroids for each of the `k` clusters. Each centroid is essentially a point, so it should be presented as a list of coordinates.\n",
    "\n",
    "Write your code around the detailed comments and the helping code below.\n",
    "\n",
    "Test your function on the data from Problem 3 for k = 3. For each of the three clusters, print the number of customers assigned to it and the cordinates of its centroid.\n"
   ]
  },
  {
   "cell_type": "code",
   "execution_count": 35,
   "metadata": {
    "scrolled": true
   },
   "outputs": [
    {
     "name": "stdout",
     "output_type": "stream",
     "text": [
      "***Cluster 1***\n",
      "Number of customers: 6\n",
      "Centroid: [[22615, 5410, 7198, 3915, 1777, 5185], [31714, 12319, 11757, 287, 3881, 2931], [24653, 9465, 12091, 294, 5058, 2168], [31276, 1917, 4469, 9408, 2381, 4334], [22647, 9776, 13792, 2915, 4482, 5778], [43088, 2100, 2609, 1200, 1107, 823], [29729, 4786, 7326, 6130, 361, 1083], [29955, 4362, 5428, 1729, 862, 4626], [56159, 555, 902, 10002, 212, 2916], [24025, 4332, 4757, 9510, 1145, 5864], [40721, 3916, 5876, 532, 2587, 1278], [27329, 1449, 1947, 2436, 204, 1333], [43265, 5025, 8117, 6312, 1579, 14351], [24904, 3836, 5330, 3443, 454, 3178], [56082, 3504, 8906, 18028, 1480, 2498], [36050, 1642, 2961, 4787, 500, 1621], [76237, 3473, 7102, 16538, 778, 918], [42312, 926, 1510, 1718, 410, 1819], [30379, 13252, 5189, 321, 51, 1450], [37036, 7152, 8253, 2995, 20, 3], [31812, 1433, 1651, 800, 113, 1440], [45640, 6958, 6536, 7368, 1532, 230], [112151, 29627, 18148, 16745, 4948, 8550], [36847, 43950, 20170, 36534, 239, 47943], [30624, 7209, 4897, 18711, 763, 2876], [25203, 11487, 9490, 5065, 284, 6854], [25962, 1780, 3838, 638, 284, 834], [47493, 2567, 3779, 5243, 828, 2253], [22096, 3575, 7041, 11422, 343, 2564], [24929, 1801, 2475, 2216, 412, 1047], [29526, 7961, 16966, 432, 363, 1391], [31614, 489, 1495, 3242, 111, 615], [56083, 4563, 2124, 6422, 730, 3321], [53205, 4959, 7336, 3012, 967, 818], [36817, 3045, 1493, 4802, 210, 1824], [27901, 3749, 6964, 4479, 603, 2503], [49063, 3965, 4252, 5970, 1041, 1404], [25767, 3613, 2013, 10303, 314, 1384], [68951, 4411, 12609, 8692, 751, 2406], [40254, 640, 3600, 1042, 436, 18], [42786, 286, 471, 1388, 32, 22], [29635, 2335, 8280, 3046, 371, 117], [25977, 3587, 2464, 2369, 140, 1092], [32717, 16784, 13626, 60869, 1272, 5609], [27082, 6817, 10790, 1365, 4111, 2139], [27380, 7184, 12311, 2809, 4621, 1022], [39679, 3944, 4955, 1364, 523, 2235], [38793, 3154, 2648, 1034, 96, 1242], [28257, 944, 2146, 3881, 600, 270], [34454, 7435, 8469, 2540, 1711, 2893], [23632, 6730, 3842, 8620, 385, 819], [27167, 2801, 2128, 13223, 92, 1902], [26539, 4753, 5091, 220, 10, 340], [25606, 11006, 4604, 127, 632, 288], [25066, 5010, 5026, 9806, 1092, 960], [26400, 1377, 4172, 830, 948, 1218], [31012, 16687, 5429, 15082, 439, 1163], [29703, 12051, 16027, 13135, 182, 2204], [39228, 1431, 764, 4510, 93, 2346]]\n",
      "\n",
      "***Cluster 2***\n",
      "Number of customers: 6\n",
      "Centroid: [[6006, 11093, 18881, 1159, 7425, 2098], [26373, 36423, 22019, 5154, 4337, 16523], [4113, 20484, 25957, 1158, 8604, 5206], [4591, 15729, 16709, 33, 6956, 433], [630, 11095, 23998, 787, 9529, 72], [5181, 22044, 21531, 1740, 7353, 4985], [3103, 14069, 21955, 1668, 6792, 1452], [44466, 54259, 55571, 7782, 24171, 6465], [4967, 21412, 28921, 1798, 13583, 1163], [4098, 29892, 26866, 2616, 17740, 1340], [35942, 38369, 59598, 3254, 26701, 2017], [9396, 11601, 15775, 2896, 7677, 1295], [85, 20959, 45828, 36, 24231, 1423], [12205, 12697, 28540, 869, 12034, 1009], [16117, 46197, 92780, 1026, 40827, 2944], [22925, 73498, 32114, 987, 20070, 903], [9198, 27472, 32034, 3232, 18906, 5130], [1420, 10810, 16267, 1593, 6766, 1838], [1406, 16729, 28986, 673, 836, 3], [12579, 11114, 17569, 805, 6457, 1519], [22039, 8384, 34792, 42, 12591, 4430], [1989, 10690, 19460, 233, 11577, 2153], [5531, 15726, 26870, 2367, 13726, 446], [15615, 12653, 19858, 4425, 7108, 2379], [200, 25862, 19816, 651, 8773, 6250], [514, 7677, 19805, 937, 9836, 716], [3067, 13240, 23127, 3941, 9959, 731], [4484, 14399, 24708, 3549, 14235, 1681], [1107, 11711, 23596, 955, 9265, 710], [5550, 12729, 16767, 864, 12420, 797], [12119, 28326, 39694, 4736, 19410, 2870], [2532, 16599, 36486, 179, 13308, 674], [6134, 23133, 33586, 6746, 18594, 5121], [5909, 23527, 13699, 10155, 830, 3636], [572, 9763, 22182, 2221, 4882, 2563], [11908, 8053, 19847, 1069, 6374, 698], [5283, 13316, 20399, 1809, 8752, 172], [161, 7460, 24773, 617, 11783, 2410], [6468, 12867, 21570, 1840, 7558, 1543], [918, 20655, 13567, 1465, 6846, 806], [2137, 3737, 19172, 1274, 17120, 142], [9759, 25071, 17645, 1128, 12408, 1625], [11223, 14881, 26839, 1234, 9606, 1102], [8565, 4980, 67298, 131, 38102, 1215], [1689, 6964, 26316, 1456, 15469, 37], [5981, 14641, 20521, 2005, 12218, 445], [1210, 10044, 22294, 1741, 12638, 3137], [117, 6264, 21203, 228, 8682, 1111], [37, 1275, 22272, 137, 6747, 110], [10683, 21858, 15400, 3635, 282, 5120], [7362, 12844, 18683, 2854, 7883, 553], [660, 8494, 18622, 133, 6740, 776], [14531, 15488, 30243, 437, 14841, 1867]]\n",
      "\n",
      "***Cluster 3***\n",
      "Number of customers: 6\n",
      "Centroid: [[12669, 9656, 7561, 214, 2674, 1338], [7057, 9810, 9568, 1762, 3293, 1776], [6353, 8808, 7684, 2405, 3516, 7844], [13265, 1196, 4221, 6404, 507, 1788], [9413, 8259, 5126, 666, 1795, 1451], [12126, 3199, 6975, 480, 3140, 545], [7579, 4956, 9426, 1669, 3321, 2566], [5963, 3648, 6192, 425, 1716, 750], [3366, 5403, 12974, 4400, 5977, 1744], [13146, 1124, 4523, 1420, 549, 497], [21217, 6208, 14982, 3095, 6707, 602], [10253, 1114, 3821, 397, 964, 412], [1020, 8816, 12121, 134, 4508, 1080], [5876, 6157, 2933, 839, 370, 4478], [18601, 6327, 10099, 2205, 2767, 3181], [7780, 2495, 9464, 669, 2518, 501], [17546, 4519, 4602, 1066, 2259, 2124], [5567, 871, 2010, 3383, 375, 569], [16165, 4230, 7595, 201, 4003, 57], [9898, 961, 2861, 3151, 242, 833], [14276, 803, 3045, 485, 100, 518], [18815, 3610, 11107, 1148, 2134, 2963], [2612, 4339, 3133, 2088, 820, 985], [21632, 1318, 2886, 266, 918, 405], [1502, 1979, 2262, 425, 483, 395], [688, 5491, 11091, 833, 4239, 436], [15168, 10556, 12477, 1920, 6506, 714], [19176, 3065, 5956, 2033, 2575, 2802], [10850, 7555, 14961, 188, 6899, 46], [9670, 7027, 10471, 541, 4618, 65], [11519, 6152, 10868, 584, 5121, 1476], [6269, 1095, 1980, 3860, 609, 2162], [3347, 4051, 6996, 239, 1538, 301], [491, 10473, 11532, 744, 5611, 224], [5264, 3683, 5005, 1057, 2024, 1130], [5417, 9933, 10487, 38, 7572, 1282], [13779, 1970, 1648, 596, 227, 436], [6137, 5360, 8040, 129, 3084, 1603], [8590, 3045, 7854, 96, 4095, 225], [7823, 6245, 6544, 4154, 4074, 964], [4760, 1227, 3250, 3724, 1247, 1145], [9, 1534, 7417, 175, 3468, 27], [19913, 6759, 13462, 1256, 5141, 834], [2446, 7260, 3993, 5870, 788, 3095], [8352, 2820, 1293, 779, 656, 144], [16705, 2037, 3202, 10643, 116, 1365], [18291, 1266, 21042, 5373, 4173, 14472], [4420, 5139, 2661, 8872, 1321, 181], [19899, 5332, 8713, 8132, 764, 648], [8190, 6343, 9794, 1285, 1901, 1780], [20398, 1137, 3, 4407, 3, 975], [717, 3587, 6532, 7530, 529, 894], [10766, 1175, 2067, 2096, 301, 167], [1640, 3259, 3655, 868, 1202, 1653], [7005, 829, 3009, 430, 610, 529], [219, 9540, 14403, 283, 7818, 156], [10362, 9232, 11009, 737, 3537, 2342], [20874, 1563, 1783, 2320, 550, 772], [11867, 3327, 4814, 1178, 3837, 120], [7864, 542, 4042, 9735, 165, 46], [11405, 596, 1638, 3347, 69, 360], [12754, 2762, 2530, 8693, 627, 1117], [11314, 3090, 2062, 35009, 71, 2698], [5626, 12220, 11323, 206, 5038, 244], [3, 2920, 6252, 440, 223, 709], [23, 2616, 8118, 145, 3874, 217], [403, 254, 610, 774, 54, 63], [503, 112, 778, 895, 56, 132], [9658, 2182, 1909, 5639, 215, 323], [11594, 7779, 12144, 3252, 8035, 3029], [2932, 6459, 7677, 2561, 4573, 1386], [14100, 2132, 3445, 1336, 1491, 548], [15587, 1014, 3970, 910, 139, 1378], [1454, 6337, 10704, 133, 6830, 1831], [8797, 10646, 14886, 2471, 8969, 1438], [1531, 8397, 6981, 247, 2505, 1236], [11818, 1648, 1694, 2276, 169, 1647], [19046, 2770, 2469, 8853, 483, 2708], [14438, 2295, 1733, 3220, 585, 1561], [18044, 1080, 2000, 2555, 118, 1266], [11134, 793, 2988, 2715, 276, 610], [11173, 2521, 3355, 1517, 310, 222], [6990, 3880, 5380, 1647, 319, 1160], [20049, 1891, 2362, 5343, 411, 933], [8258, 2344, 2147, 3896, 266, 635], [17160, 1200, 3412, 2417, 174, 1136], [4020, 3234, 1498, 2395, 264, 255], [12212, 201, 245, 1991, 25, 860], [11170, 10769, 8814, 2194, 1976, 143], [19219, 1840, 1658, 8195, 349, 483], [21465, 7243, 10685, 880, 2386, 2749], [140, 8847, 3823, 142, 1062, 3], [7149, 2428, 699, 6316, 395, 911], [2101, 589, 314, 346, 70, 310], [14903, 2032, 2479, 576, 955, 328], [9434, 1042, 1235, 436, 256, 396], [7388, 1882, 2174, 720, 47, 537], [6300, 1289, 2591, 1170, 199, 326], [4625, 8579, 7030, 4575, 2447, 1542], [3087, 8080, 8282, 661, 721, 36], [13537, 4257, 5034, 155, 249, 3271], [5387, 4979, 3343, 825, 637, 929], [17623, 4280, 7305, 2279, 960, 2616], [10405, 1596, 1096, 8425, 399, 318], [18827, 3677, 1988, 118, 516, 201], [7769, 1936, 2177, 926, 73, 520], [9203, 3373, 2707, 1286, 1082, 526], [5924, 584, 542, 4052, 283, 434], [16225, 1825, 1765, 853, 170, 1067], [1289, 3328, 2022, 531, 255, 1774], [18840, 1371, 3135, 3001, 352, 184], [3463, 9250, 2368, 779, 302, 1627], [622, 55, 137, 75, 7, 8], [3830, 5291, 14855, 317, 6694, 3182], [17773, 1366, 2474, 3378, 811, 418], [2861, 6570, 9618, 930, 4004, 1682], [355, 7704, 14682, 398, 8077, 303], [1725, 3651, 12822, 824, 4424, 2157], [12434, 540, 283, 1092, 3, 2233], [15177, 2024, 3810, 2665, 232, 610], [5224, 7603, 8584, 2540, 3674, 238], [4822, 6721, 9170, 993, 4973, 3637], [2926, 3195, 3268, 405, 1680, 693], [5809, 735, 803, 1393, 79, 429], [5414, 717, 2155, 2399, 69, 750], [260, 8675, 13430, 1116, 7015, 323], [955, 5479, 6536, 333, 2840, 707], [286, 1208, 5241, 2515, 153, 1442], [2343, 7845, 11874, 52, 4196, 1697], [12759, 7330, 4533, 1752, 20, 2631], [11002, 7075, 4945, 1152, 120, 395], [3157, 4888, 2500, 4477, 273, 2165], [12356, 6036, 8887, 402, 1382, 2794], [694, 8533, 10518, 443, 6907, 156], [327, 918, 4710, 74, 334, 11], [8170, 6448, 1139, 2181, 58, 247], [3009, 521, 854, 3470, 949, 727], [2438, 8002, 9819, 6269, 3459, 3], [8040, 7639, 11687, 2758, 6839, 404], [834, 11577, 11522, 275, 4027, 1856], [16936, 6250, 1981, 7332, 118, 64], [13624, 295, 1381, 890, 43, 84], [5509, 1461, 2251, 547, 187, 409], [180, 3485, 20292, 959, 5618, 666], [7107, 1012, 2974, 806, 355, 1142], [17023, 5139, 5230, 7888, 330, 1755], [2427, 7097, 10391, 1127, 4314, 1468], [11686, 2154, 6824, 3527, 592, 697], [9670, 2280, 2112, 520, 402, 347], [583, 685, 2216, 469, 954, 18], [1956, 891, 5226, 1383, 5, 1328], [6373, 780, 950, 878, 288, 285], [2541, 4737, 6089, 2946, 5316, 120], [1537, 3748, 5838, 1859, 3381, 806], [18567, 1895, 1393, 1801, 244, 2100], [7291, 1012, 2062, 1291, 240, 1775], [3317, 6602, 6861, 1329, 3961, 1215], [2362, 6551, 11364, 913, 5957, 791], [2806, 10765, 15538, 1374, 5828, 2388], [18044, 1475, 2046, 2532, 130, 1158], [18, 7504, 15205, 1285, 4797, 6372], [4155, 367, 1390, 2306, 86, 130], [14755, 899, 1382, 1765, 56, 749], [5396, 7503, 10646, 91, 4167, 239], [5041, 1115, 2856, 7496, 256, 375], [2790, 2527, 5265, 5612, 788, 1360], [7274, 659, 1499, 784, 70, 659], [12680, 3243, 4157, 660, 761, 786], [20782, 5921, 9212, 1759, 2568, 1553], [4042, 2204, 1563, 2286, 263, 689], [1869, 577, 572, 950, 4762, 203], [8656, 2746, 2501, 6845, 694, 980], [11072, 5989, 5615, 8321, 955, 2137], [2344, 10678, 3828, 1439, 1566, 490], [964, 4984, 3316, 937, 409, 7], [15603, 2703, 3833, 4260, 325, 2563], [1838, 6380, 2824, 1218, 1216, 295], [8635, 820, 3047, 2312, 415, 225], [18692, 3838, 593, 4634, 28, 1215], [7363, 475, 585, 1112, 72, 216], [18226, 659, 2914, 3752, 586, 578], [11210, 3576, 5119, 561, 1682, 2398], [6202, 7775, 10817, 1183, 3143, 1970], [3062, 6154, 13916, 230, 8933, 2784], [8885, 2428, 1777, 1777, 430, 610], [13569, 346, 489, 2077, 44, 659], [15671, 5279, 2406, 559, 562, 572], [8040, 3795, 2070, 6340, 918, 291], [3191, 1993, 1799, 1730, 234, 710], [6623, 1860, 4740, 7683, 205, 1693], [10379, 17972, 4748, 4686, 1547, 3265], [11092, 5008, 5249, 453, 392, 373], [8475, 1931, 1883, 5004, 3593, 987], [9193, 4885, 2157, 327, 780, 548], [7858, 1110, 1094, 6818, 49, 287], [23257, 1372, 1677, 982, 429, 655], [2153, 1115, 6684, 4324, 2894, 411], [1073, 9679, 15445, 61, 5980, 1265], [20893, 1222, 2576, 3975, 737, 3628], [15218, 258, 1138, 2516, 333, 204], [4720, 1032, 975, 5500, 197, 56], [2083, 5007, 1563, 1120, 147, 1550], [514, 8323, 6869, 529, 93, 1040], [894, 1703, 1841, 744, 759, 1153], [680, 1610, 223, 862, 96, 379], [9061, 829, 683, 16919, 621, 139], [11693, 2317, 2543, 5845, 274, 1409], [17360, 6200, 9694, 1293, 3620, 1721], [3366, 2884, 2431, 977, 167, 1104], [12238, 7108, 6235, 1093, 2328, 2079], [7149, 2247, 1242, 1619, 1226, 128], [15354, 2102, 2828, 8366, 386, 1027], [16260, 594, 1296, 848, 445, 258], [2708, 2160, 2642, 502, 965, 1522], [6022, 3354, 3261, 2507, 212, 686], [2838, 3086, 4329, 3838, 825, 1060], [3996, 11103, 12469, 902, 5952, 741], [21273, 2013, 6550, 909, 811, 1854], [7588, 1897, 5234, 417, 2208, 254], [19087, 1304, 3643, 3045, 710, 898], [8090, 3199, 6986, 1455, 3712, 531], [6758, 4560, 9965, 934, 4538, 1037], [444, 879, 2060, 264, 290, 259], [16448, 6243, 6360, 824, 2662, 2005], [2886, 5302, 9785, 364, 6236, 555], [2599, 3688, 13829, 492, 10069, 59], [243, 12939, 8852, 799, 3909, 211], [17327, 2374, 2842, 1149, 351, 925], [6987, 1020, 3007, 416, 257, 656], [7034, 1492, 2405, 12569, 299, 1117], [9784, 925, 2405, 4447, 183, 297], [10617, 1795, 7647, 1483, 857, 1233], [1479, 14982, 11924, 662, 3891, 3508], [7127, 1375, 2201, 2679, 83, 1059], [1182, 3088, 6114, 978, 821, 1637], [11800, 2713, 3558, 2121, 706, 51], [1774, 3696, 2280, 514, 275, 834], [9155, 1897, 5167, 2714, 228, 1113], [15881, 713, 3315, 3703, 1470, 229], [13360, 944, 11593, 915, 1679, 573], [4414, 1610, 1431, 3498, 387, 834], [542, 899, 1664, 414, 88, 522], [16933, 2209, 3389, 7849, 210, 1534], [5113, 1486, 4583, 5127, 492, 739], [9790, 1786, 5109, 3570, 182, 1043], [22321, 3216, 1447, 2208, 178, 2602], [16823, 928, 2743, 11559, 332, 3486], [13970, 1511, 1330, 650, 146, 778], [9351, 1347, 2611, 8170, 442, 868], [3, 333, 7021, 15601, 15, 550], [2617, 1188, 5332, 9584, 573, 1942], [381, 4025, 9670, 388, 7271, 1371], [2320, 5763, 11238, 767, 5162, 2158], [255, 5758, 5923, 349, 4595, 1328], [3043, 1172, 1763, 2234, 217, 379], [1198, 2602, 8335, 402, 3843, 303], [2771, 6939, 15541, 2693, 6600, 1115], [3428, 2380, 2028, 1341, 1184, 665], [3521, 1099, 1997, 1796, 173, 995], [608, 1106, 1533, 830, 90, 195], [14039, 7393, 2548, 6386, 1333, 2341], [190, 727, 2012, 245, 184, 127], [22686, 134, 218, 3157, 9, 548], [759, 18664, 1660, 6114, 536, 4100], [796, 5878, 2109, 340, 232, 776], [19746, 2872, 2006, 2601, 468, 503], [4734, 607, 864, 1206, 159, 405], [2121, 1601, 2453, 560, 179, 712], [4627, 997, 4438, 191, 1335, 314], [2615, 873, 1524, 1103, 514, 468], [4692, 6128, 8025, 1619, 4515, 3105], [9561, 2217, 1664, 1173, 222, 447], [3477, 894, 534, 1457, 252, 342], [22335, 1196, 2406, 2046, 101, 558], [6211, 337, 683, 1089, 41, 296], [20105, 1887, 1939, 8164, 716, 790], [3884, 3801, 1641, 876, 397, 4829], [15076, 6257, 7398, 1504, 1916, 3113], [6338, 2256, 1668, 1492, 311, 686], [5841, 1450, 1162, 597, 476, 70], [3136, 8630, 13586, 5641, 4666, 1426], [3225, 3294, 1902, 282, 68, 1114], [4048, 5164, 10391, 130, 813, 179], [17770, 4591, 1617, 9927, 246, 532], [1821, 1364, 3450, 4006, 397, 361], [11635, 922, 1614, 2583, 192, 1068], [1206, 3620, 2857, 1945, 353, 967], [20918, 1916, 1573, 1960, 231, 961], [9785, 848, 1172, 1677, 200, 406], [9385, 1530, 1422, 3019, 227, 684], [3352, 1181, 1328, 5502, 311, 1000], [2647, 2761, 2313, 907, 95, 1827], [518, 4180, 3600, 659, 122, 654], [12377, 865, 3204, 1398, 149, 452], [9602, 1316, 1263, 2921, 841, 290], [4515, 11991, 9345, 2644, 3378, 2213], [11535, 1666, 1428, 6838, 64, 743], [11442, 1032, 582, 5390, 74, 247], [9612, 577, 935, 1601, 469, 375], [4446, 906, 1238, 3576, 153, 1014], [18073, 4613, 3444, 4324, 914, 715], [6884, 1046, 1167, 2069, 593, 378], [8257, 3880, 6407, 1646, 2730, 344], [8708, 3634, 6100, 2349, 2123, 5137], [6633, 2096, 4563, 1389, 1860, 1892], [2126, 3289, 3281, 1535, 235, 4365], [97, 3605, 12400, 98, 2970, 62], [4983, 4859, 6633, 17866, 912, 2435], [5969, 1990, 3417, 5679, 1135, 290], [7842, 6046, 8552, 1691, 3540, 1874], [4389, 10940, 10908, 848, 6728, 993], [5065, 5499, 11055, 364, 3485, 1063], [8861, 3783, 2223, 633, 1580, 1521], [4456, 5266, 13227, 25, 6818, 1393], [17063, 4847, 9053, 1031, 3415, 1784], [17565, 3686, 4657, 1059, 1803, 668], [16980, 2884, 12232, 874, 3213, 249], [11243, 2408, 2593, 15348, 108, 1886], [13134, 9347, 14316, 3141, 5079, 1894], [3047, 5970, 4910, 2198, 850, 317], [8607, 1750, 3580, 47, 84, 2501], [3097, 4230, 16483, 575, 241, 2080], [8533, 5506, 5160, 13486, 1377, 1498], [21117, 1162, 4754, 269, 1328, 395], [1982, 3218, 1493, 1541, 356, 1449], [16731, 3922, 7994, 688, 2371, 838], [10290, 1981, 2232, 1038, 168, 2125], [2787, 1698, 2510, 65, 477, 52]]\n",
      "\n"
     ]
    }
   ],
   "source": [
    "# Enter your answer to Problem 4 in-between the code and comments below. \n",
    "\n",
    "def kmeans(points, k):\n",
    "    \"\"\" Clusters a collection of points into k clusters,\n",
    "    using a simplified version of the k-means algorithm.\n",
    "    \"\"\"\n",
    "    \n",
    "    # Select k random points to use as initial centroids\n",
    "    init = random.sample(points, k)\n",
    "    \n",
    "    # Create a list of k lists to contain the points assigned to each cluster.  \n",
    "    clusters = [[] for i in init]\n",
    "    \n",
    "    # Create a list to keep the centroids of the k clusters. \n",
    "    # For now, this list will contain the points from init.\n",
    "    centroids = [i for i in init]\n",
    "    \n",
    "    # You now need to assign each point to the cluster \n",
    "    # with the closest centroid. Use the get_distance function \n",
    "    # you wrote in Problem 1 for this.   \n",
    "    for i in points:\n",
    "        distance = [get_distance(i, j) for j in init]\n",
    "        min_dist = distance.index(min(distance))\n",
    "        clusters[min_dist].append(i)\n",
    "           \n",
    "    # You should then update the variable \"clusters\" to be \n",
    "    # the new clustering and update the variable \"centroids\" \n",
    "    # to contain the centroids of the clusters in this new clustering.\n",
    "    # Use the function you wrote in Problem 2 to estimate the centroids.\n",
    "    centroids = [get_centroid(i) for i in clusters]\n",
    "    \n",
    "    # Repeat the process described above for 100 iterations. \n",
    "    # The idea is that each new repetition refines the clustering \n",
    "    # because it starts from the centroids of the previous clustering. \n",
    "    # If we repeat the process long enough, the assignment to \n",
    "    # clusters and the centroids will become stable.\n",
    "    for x in range(100):\n",
    "        clusters = [[] for i in centroids]\n",
    "        for i in points:\n",
    "            distance = [get_distance(i, j) for j in centroids]\n",
    "            min_dist = distance.index(min(distance))\n",
    "            clusters[min_dist].append(i)\n",
    "        centroids = [get_centroid(i) for i in clusters]\n",
    "    \n",
    "   # print('The number of customers in each cluster are:',\n",
    "    #      len(clusters[0]), len(clusters[1]), len(clusters[2]))\n",
    "    #print('The corresponding centroids are:', centroids)\n",
    "    \n",
    "    return centroids, clusters\n",
    "       \n",
    "clusters, centroids = kmeans(data, 3)\n",
    "for i in range(3):\n",
    "    print('***Cluster ' + str(i+1) + '***')\n",
    "    print('Number of customers:', len(clusters[i]))\n",
    "    print('Centroid:', centroids[i])\n",
    "    print()\n",
    "    \n",
    "\n",
    "#print('The number of customers in each clusters are', len(kmeans(data, 3)[0][0]),\\\n",
    "#      len(kmeans(data, 3)[0][1]),len(kmeans(data, 3)[0][2]))\n",
    "#print((kmeans(data, 3)[1]))"
   ]
  },
  {
   "cell_type": "code",
   "execution_count": 41,
   "metadata": {},
   "outputs": [
    {
     "name": "stdout",
     "output_type": "stream",
     "text": [
      "***Cluster 1***\n",
      "Number of customers: 328\n",
      "Centroid: [8341.612804878048, 3779.893292682927, 5152.173780487805, 2577.237804878049, 1720.5731707317073, 1136.5426829268292]\n",
      "\n",
      "***Cluster 2***\n",
      "Number of customers: 59\n",
      "Centroid: [36156.38983050847, 6123.64406779661, 6366.779661016949, 6811.118644067797, 1050.0169491525423, 3090.0508474576272]\n",
      "\n",
      "***Cluster 3***\n",
      "Number of customers: 53\n",
      "Centroid: [7751.981132075472, 17910.509433962263, 27037.905660377357, 1970.9433962264152, 12104.867924528302, 2185.735849056604]\n",
      "\n"
     ]
    }
   ],
   "source": [
    "def kmeans(points, k):\n",
    "    \"\"\"Clusters data using a naive implementation of the k-means \n",
    "    clustering algorithm. Assumes points is a list of lists \n",
    "    of numerical values (point coordinates) and k is \n",
    "    an integer > 0 specifiying the number of clusters to be used.\n",
    "    Returns the k-means clustering after 100 iterations \n",
    "    and a single initialization as a list of k lists (clusters) \n",
    "    of points and a list of k lists of numerical values \n",
    "    (the coordinates of the cluster centroids.)\n",
    "    \"\"\"\n",
    "    \n",
    "    # Select k random points to use as initial centroids\n",
    "    init = random.sample(points, k)\n",
    "\n",
    "    # Create a list of k lists to contain the points assigned to each cluster.  \n",
    "    clusters = [[] for i in init]\n",
    "    \n",
    "    # Create a list to keep the centroids of the k clusters. \n",
    "    # For now, this list will contain the points from init.\n",
    "    centroids = [i for i in init]\n",
    "    \n",
    "    # Repeat the clustering for 100 iterations.\n",
    "    # The idea is that each new repetition refines the clustering \n",
    "    # because it starts from the centroids of the previous clustering.  \n",
    "    \n",
    "    for i in range(100):\n",
    "        new_clustering = [[] for i in range(k)] #create a ls of ls for the new clustering\n",
    "        for p in points: # Assign each point to the cluster with the closest centroid.\n",
    "            min_dist = get_distance(p, centroids[0]) # Start by setting the closest cluster to be the first one\n",
    "            closest_clust = 0 # Now find the actual closest cluster\n",
    "            for i in range(1, k):\n",
    "                dist = get_distance(p, centroids[i])\n",
    "                if dist < min_dist:\n",
    "                    min_dist = dist\n",
    "                    closest_clust = i                   \n",
    "            new_clustering[closest_clust].append(p) # Add the point to the closest cluster\n",
    "            \n",
    "        clusters = new_clustering # Now update the clusters and the centroids\n",
    "        centroids = [get_centroid(i) for i in clusters]\n",
    "    \n",
    "    return clusters, centroids\n",
    "\n",
    "\n",
    "clusters, centroids = kmeans(data, 3)\n",
    "for i in range(3):\n",
    "    print('***Cluster ' + str(i+1) + '***')\n",
    "    print('Number of customers:', len(clusters[i]))\n",
    "    print('Centroid:', centroids[i])\n",
    "    print()\n",
    "    \n"
   ]
  },
  {
   "cell_type": "markdown",
   "metadata": {},
   "source": [
    "---\n",
    "\n",
    "### Evaluation\n",
    "\n",
    "| Problem | Mark     | Comment   \n",
    "|:-------:|:--------:|:----------------------\n",
    "| 1       |   /2    |              \n",
    "| 2       |   /2    | \n",
    "| 3       |   /2    | \n",
    "| 4       |   /6    | \n",
    "| Legibility      |   /2    | \n",
    "| Modularity      |   /2    | \n",
    "| Efficiency      |   /4    | \n",
    "|**Total**|**/20**  | "
   ]
  },
  {
   "cell_type": "code",
   "execution_count": null,
   "metadata": {},
   "outputs": [],
   "source": []
  }
 ],
 "metadata": {
  "kernelspec": {
   "display_name": "Python 3",
   "language": "python",
   "name": "python3"
  },
  "language_info": {
   "codemirror_mode": {
    "name": "ipython",
    "version": 3
   },
   "file_extension": ".py",
   "mimetype": "text/x-python",
   "name": "python",
   "nbconvert_exporter": "python",
   "pygments_lexer": "ipython3",
   "version": "3.7.4"
  }
 },
 "nbformat": 4,
 "nbformat_minor": 2
}
